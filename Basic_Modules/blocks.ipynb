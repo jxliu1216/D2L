{
 "cells": [
  {
   "cell_type": "code",
   "execution_count": 1,
   "metadata": {},
   "outputs": [],
   "source": [
    "import torch\n",
    "from torch import nn\n",
    "from torch.nn import functional as F"
   ]
  },
  {
   "attachments": {},
   "cell_type": "markdown",
   "metadata": {},
   "source": [
    "### 1.自定义块\n",
    "\n",
    "自定义块通常需要包含如下几个部分：\n",
    "\n",
    "- **输入：** 输入数据作为其前向传播函数的参数\n",
    "- **前向传播函数：** 输入通过前向传播函数的作用，产生输出\n",
    "- **梯度：** 能够计算输出关于输入的梯度\n",
    "- **模型参数：** 能够存储和访问前向传播计算所需的参数\n",
    "- **初始化：** 能够对模型参数进行初始化\n",
    "\n",
    "在构建自定义块时，一般会继承nn.Module类，然后修改__init__()和forward()函数\n",
    "\n",
    "- \\_\\_init\\_\\_()函数中主要实现一些层和参数的初始化\n",
    "- forward()函数中定义前向传播的实现过程"
   ]
  },
  {
   "cell_type": "code",
   "execution_count": 2,
   "metadata": {},
   "outputs": [
    {
     "data": {
      "text/plain": [
       "tensor([[-0.0233,  0.0518, -0.2289,  0.1557, -0.0906, -0.1514,  0.0753,  0.0396,\n",
       "          0.0333, -0.0343],\n",
       "        [-0.0045, -0.0173, -0.3109,  0.1658, -0.0614, -0.2168,  0.1630,  0.1892,\n",
       "          0.1727, -0.1910]], grad_fn=<AddmmBackward0>)"
      ]
     },
     "execution_count": 2,
     "metadata": {},
     "output_type": "execute_result"
    }
   ],
   "source": [
    "class MLP(nn.Module):\n",
    "    def __init__(self) -> None:\n",
    "        # 调用父类（nn.Module）的构造函数来执行必要的初始化\n",
    "        super().__init__()\n",
    "        self.hidden = nn.Linear(20, 256)    # 隐藏层\n",
    "        self.out = nn.Linear(256, 10)       # 输出层\n",
    "    \n",
    "    # 定义模型的前向传播函数\n",
    "    def forward(self, X):\n",
    "        return self.out(F.relu(self.hidden(X)))\n",
    "\n",
    "net = MLP()\n",
    "X = torch.rand(2, 20)\n",
    "net(X)"
   ]
  },
  {
   "cell_type": "markdown",
   "metadata": {},
   "source": [
    "### 2.顺序块的实现"
   ]
  },
  {
   "cell_type": "code",
   "execution_count": 8,
   "metadata": {},
   "outputs": [
    {
     "name": "stdout",
     "output_type": "stream",
     "text": [
      "MySequential(\n",
      "  (0): Linear(in_features=20, out_features=256, bias=True)\n",
      "  (1): ReLU()\n",
      "  (2): Linear(in_features=256, out_features=10, bias=True)\n",
      ")\n"
     ]
    }
   ],
   "source": [
    "class MySequential(nn.Module):\n",
    "    def __init__(self, *args) -> None:\n",
    "        super().__init__()\n",
    "        for idx, module in enumerate(args):\n",
    "            # args为一个元组，按顺序存储了输入参数\n",
    "            # _modules的类型是OrderedDict\n",
    "            self._modules[str(idx)] = module\n",
    "\n",
    "    def forward(self, X):\n",
    "        for block in self._modules.values():\n",
    "            X = block(X)\n",
    "        return X\n",
    "\n",
    "net = MySequential(nn.Linear(20, 256), nn.ReLU(), nn.Linear(256, 10))\n",
    "net(X)\n",
    "print(net)"
   ]
  },
  {
   "attachments": {},
   "cell_type": "markdown",
   "metadata": {},
   "source": [
    "### 3.前向传播函数\n",
    "\n",
    "我们可以在前向传播函数中自定义执行流程，引入Python的控制流，不参与梯度计算的固定参数等"
   ]
  },
  {
   "cell_type": "code",
   "execution_count": 4,
   "metadata": {},
   "outputs": [
    {
     "data": {
      "text/plain": [
       "tensor(0.0606, grad_fn=<SumBackward0>)"
      ]
     },
     "execution_count": 4,
     "metadata": {},
     "output_type": "execute_result"
    }
   ],
   "source": [
    "class FixedHiddenMLP(nn.Module):\n",
    "    def __init__(self) -> None:\n",
    "        super().__init__()\n",
    "        # 固定权重参数，在训练过程中保持不变\n",
    "        self.rand_weight = torch.rand((20, 20), requires_grad=False)\n",
    "        self.linear = nn.Linear(20, 20)\n",
    "    \n",
    "    def forward(self, X):\n",
    "        X = self.linear(X)\n",
    "        X = F.relu(torch.mm(X, self.rand_weight) + 1)\n",
    "        X = self.linear(X)\n",
    "        while X.abs().sum() > 1:\n",
    "            X /= 2\n",
    "        return X.sum()\n",
    "\n",
    "net = FixedHiddenMLP()\n",
    "net(X)"
   ]
  },
  {
   "attachments": {},
   "cell_type": "markdown",
   "metadata": {},
   "source": [
    "### 4.自由组合各种块"
   ]
  },
  {
   "cell_type": "code",
   "execution_count": 5,
   "metadata": {},
   "outputs": [
    {
     "data": {
      "text/plain": [
       "tensor(-0.0453, grad_fn=<SumBackward0>)"
      ]
     },
     "execution_count": 5,
     "metadata": {},
     "output_type": "execute_result"
    }
   ],
   "source": [
    "class NestMLP(nn.Module):\n",
    "    def __init__(self) -> None:\n",
    "        super().__init__()\n",
    "        self.net = nn.Sequential(nn.Linear(20, 64), nn.ReLU(),\n",
    "                                 nn.Linear(64, 32), nn.ReLU())\n",
    "        self.linear = nn.Linear(32, 16)\n",
    "    \n",
    "    def forward(self, X):\n",
    "        return self.linear(self.net(X))\n",
    "\n",
    "chimera = nn.Sequential(NestMLP(), nn.Linear(16, 20), FixedHiddenMLP())\n",
    "chimera(X)"
   ]
  },
  {
   "attachments": {},
   "cell_type": "markdown",
   "metadata": {},
   "source": [
    "### 5.练习\n",
    "\n",
    "##### 5.1 将MySequential中块的存储方式改为Python列表"
   ]
  },
  {
   "cell_type": "code",
   "execution_count": 7,
   "metadata": {},
   "outputs": [
    {
     "name": "stdout",
     "output_type": "stream",
     "text": [
      "MySequential()\n"
     ]
    }
   ],
   "source": [
    "class MySequential(nn.Module):\n",
    "    def __init__(self, *args) -> None:\n",
    "        super().__init__()\n",
    "        self.list_modules = list(args)\n",
    "\n",
    "    def forward(self, X):\n",
    "        for block in self.list_modules:\n",
    "            X = block(X)\n",
    "        return X\n",
    "\n",
    "net = MySequential(nn.Linear(20, 256), nn.ReLU(), nn.Linear(256, 10))\n",
    "net(X)\n",
    "print(net)"
   ]
  },
  {
   "attachments": {},
   "cell_type": "markdown",
   "metadata": {},
   "source": [
    "将MySequential中块的存储方式改为list后，正常的前向传播计算还是可以的，但是在访问网络结构和参数方面不如OrderedDict方便"
   ]
  },
  {
   "attachments": {},
   "cell_type": "markdown",
   "metadata": {},
   "source": [
    "##### 5.2 实现一个块，它以两个块为参数，并返回前向传播中两个网络的串联输出"
   ]
  },
  {
   "cell_type": "code",
   "execution_count": 10,
   "metadata": {},
   "outputs": [
    {
     "data": {
      "text/plain": [
       "tensor([[ 0.1389, -0.0321, -0.1155,  0.0385, -0.0690,  0.0640, -0.0581,  0.0305,\n",
       "          0.0701, -0.1036],\n",
       "        [ 0.1367, -0.0241, -0.1106,  0.0356, -0.0747,  0.0659, -0.0517,  0.0326,\n",
       "          0.0723, -0.1219]], grad_fn=<AddmmBackward0>)"
      ]
     },
     "execution_count": 10,
     "metadata": {},
     "output_type": "execute_result"
    }
   ],
   "source": [
    "class MySeriesBlock(nn.Module):\n",
    "    def __init__(self, block1, block2) -> None:\n",
    "        super().__init__()\n",
    "        self.subBlock1 = block1\n",
    "        self.subBlock2 = block2\n",
    "    \n",
    "    def forward(self, X):\n",
    "        return self.subBlock2(self.subBlock1(X))\n",
    "\n",
    "block1 = MySequential(nn.Linear(20, 256), nn.ReLU(), nn.Linear(256, 128))\n",
    "block2 = MySequential(nn.Linear(128, 64), nn.ReLU(), nn.Linear(64, 10))\n",
    "net = MySeriesBlock(block1, block2)\n",
    "net(X)"
   ]
  },
  {
   "attachments": {},
   "cell_type": "markdown",
   "metadata": {},
   "source": [
    "##### 5.3 实现一个网络的多个实例，并以此为基础构建更大的网络"
   ]
  },
  {
   "cell_type": "code",
   "execution_count": 12,
   "metadata": {},
   "outputs": [
    {
     "data": {
      "text/plain": [
       "tensor([[-0.0005, -0.0374,  0.0121, -0.0074,  0.0442,  0.0379, -0.1096,  0.0193,\n",
       "          0.1049, -0.1296,  0.0145, -0.1227,  0.0659, -0.0132,  0.0169,  0.0762,\n",
       "          0.0078,  0.0133, -0.0348, -0.1132],\n",
       "        [-0.0005, -0.0374,  0.0121, -0.0074,  0.0442,  0.0379, -0.1096,  0.0193,\n",
       "          0.1049, -0.1296,  0.0145, -0.1227,  0.0659, -0.0132,  0.0169,  0.0762,\n",
       "          0.0078,  0.0133, -0.0348, -0.1132]], grad_fn=<AddmmBackward0>)"
      ]
     },
     "execution_count": 12,
     "metadata": {},
     "output_type": "execute_result"
    }
   ],
   "source": [
    "class myBlock(nn.Module):\n",
    "    def __init__(self) -> None:\n",
    "        super().__init__()\n",
    "        self.block1 = nn.Linear(20, 256)\n",
    "        self.block2 = nn.ReLU()\n",
    "        self.block3 = nn.Linear(256, 20)\n",
    "\n",
    "    def forward(self, X):\n",
    "        return self.block3(self.block2(self.block1(X)))\n",
    "\n",
    "class multiBlockNet(nn.Module):\n",
    "    def __init__(self, subBlock, num) -> None:\n",
    "        super().__init__()\n",
    "        self.subBlock = subBlock\n",
    "        self.num = num\n",
    "    \n",
    "    def forward(self, X):\n",
    "        for i in range(self.num):\n",
    "            X = self.subBlock(X)\n",
    "        return X\n",
    "\n",
    "block = myBlock()\n",
    "net = multiBlockNet(block, 100)\n",
    "net(X)"
   ]
  }
 ],
 "metadata": {
  "kernelspec": {
   "display_name": "pytorch-1.12.1",
   "language": "python",
   "name": "python3"
  },
  "language_info": {
   "codemirror_mode": {
    "name": "ipython",
    "version": 3
   },
   "file_extension": ".py",
   "mimetype": "text/x-python",
   "name": "python",
   "nbconvert_exporter": "python",
   "pygments_lexer": "ipython3",
   "version": "3.9.13"
  },
  "orig_nbformat": 4,
  "vscode": {
   "interpreter": {
    "hash": "62cd930f75682ff725daa0e7cec4487070f7c1e00e86dc8defdbc3bc1b0116a6"
   }
  }
 },
 "nbformat": 4,
 "nbformat_minor": 2
}
