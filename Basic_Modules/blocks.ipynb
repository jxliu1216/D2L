{
 "cells": [
  {
   "cell_type": "code",
   "execution_count": 1,
   "metadata": {},
   "outputs": [],
   "source": [
    "import torch\n",
    "from torch import nn\n",
    "from torch.nn import functional as F"
   ]
  },
  {
   "attachments": {},
   "cell_type": "markdown",
   "metadata": {},
   "source": [
    "### 1.自定义块\n",
    "\n",
    "自定义块通常需要包含如下几个部分：\n",
    "\n",
    "- **输入：** 输入数据作为其前向传播函数的参数\n",
    "- **前向传播函数：** 输入通过前向传播函数的作用，产生输出\n",
    "- **梯度：** 能够计算输出关于输入的梯度\n",
    "- **模型参数：** 能够存储和访问前向传播计算所需的参数\n",
    "- **初始化：** 能够对模型参数进行初始化\n",
    "\n",
    "在构建自定义块时，一般会继承nn.Module类，然后修改__init__()和forward()函数\n",
    "\n",
    "- \\_\\_init\\_\\_()函数中主要实现一些层和参数的初始化\n",
    "- forward()函数中定义前向传播的实现过程"
   ]
  },
  {
   "cell_type": "code",
   "execution_count": 2,
   "metadata": {},
   "outputs": [
    {
     "data": {
      "text/plain": [
       "tensor([[ 0.1647,  0.2726,  0.0836, -0.1052,  0.0880,  0.0883,  0.3569, -0.0391,\n",
       "         -0.1113, -0.2461],\n",
       "        [ 0.2843,  0.2576,  0.1843,  0.0019,  0.1960,  0.0899,  0.3481, -0.0906,\n",
       "         -0.1912, -0.2069]], grad_fn=<AddmmBackward0>)"
      ]
     },
     "execution_count": 2,
     "metadata": {},
     "output_type": "execute_result"
    }
   ],
   "source": [
    "class MLP(nn.Module):\n",
    "    def __init__(self) -> None:\n",
    "        # 调用父类（nn.Module）的构造函数来执行必要的初始化\n",
    "        super().__init__()\n",
    "        self.hidden = nn.Linear(20, 256)    # 隐藏层\n",
    "        self.out = nn.Linear(256, 10)       # 输出层\n",
    "    \n",
    "    # 定义模型的前向传播函数\n",
    "    def forward(self, X):\n",
    "        return self.out(F.relu(self.hidden(X)))\n",
    "\n",
    "net = MLP()\n",
    "X = torch.rand(2, 20)\n",
    "net(X)"
   ]
  },
  {
   "cell_type": "markdown",
   "metadata": {},
   "source": [
    "### 2.顺序块的实现"
   ]
  },
  {
   "cell_type": "code",
   "execution_count": 4,
   "metadata": {},
   "outputs": [
    {
     "data": {
      "text/plain": [
       "tensor([[-0.0931, -0.2852, -0.0623, -0.3300,  0.1176, -0.1481,  0.1376, -0.0824,\n",
       "         -0.0252, -0.1004],\n",
       "        [-0.1717, -0.2593, -0.0870, -0.1262, -0.0887,  0.0807,  0.1852, -0.0528,\n",
       "          0.0004, -0.1297]], grad_fn=<AddmmBackward0>)"
      ]
     },
     "execution_count": 4,
     "metadata": {},
     "output_type": "execute_result"
    }
   ],
   "source": [
    "class MySequential(nn.Module):\n",
    "    def __init__(self, *args) -> None:\n",
    "        super().__init__()\n",
    "        for idx, module in enumerate(args):\n",
    "            # args为一个元组，按顺序存储了输入参数\n",
    "            # _modules的类型是OrderedDict\n",
    "            self._modules[str(idx)] = module\n",
    "\n",
    "    def forward(self, X):\n",
    "        for block in self._modules.values():\n",
    "            X = block(X)\n",
    "        return X\n",
    "\n",
    "net = MySequential(nn.Linear(20, 256), nn.ReLU(), nn.Linear(256, 10))\n",
    "net(X)"
   ]
  },
  {
   "attachments": {},
   "cell_type": "markdown",
   "metadata": {},
   "source": [
    "### 3.前向传播函数\n",
    "\n",
    "我们可以在前向传播函数中自定义执行流程，引入Python的控制流，不参与梯度计算的固定参数等"
   ]
  },
  {
   "cell_type": "code",
   "execution_count": 5,
   "metadata": {},
   "outputs": [
    {
     "data": {
      "text/plain": [
       "tensor(-0.0522, grad_fn=<SumBackward0>)"
      ]
     },
     "execution_count": 5,
     "metadata": {},
     "output_type": "execute_result"
    }
   ],
   "source": [
    "class FixedHiddenMLP(nn.Module):\n",
    "    def __init__(self) -> None:\n",
    "        super().__init__()\n",
    "        # 固定权重参数，在训练过程中保持不变\n",
    "        self.rand_weight = torch.rand((20, 20), requires_grad=False)\n",
    "        self.linear = nn.Linear(20, 20)\n",
    "    \n",
    "    def forward(self, X):\n",
    "        X = self.linear(X)\n",
    "        X = F.relu(torch.mm(X, self.rand_weight) + 1)\n",
    "        X = self.linear(X)\n",
    "        while X.abs().sum() > 1:\n",
    "            X /= 2\n",
    "        return X.sum()\n",
    "\n",
    "net = FixedHiddenMLP()\n",
    "net(X)"
   ]
  },
  {
   "attachments": {},
   "cell_type": "markdown",
   "metadata": {},
   "source": [
    "### 4.自由组合各种块"
   ]
  },
  {
   "cell_type": "code",
   "execution_count": 7,
   "metadata": {},
   "outputs": [
    {
     "data": {
      "text/plain": [
       "tensor(-0.0144, grad_fn=<SumBackward0>)"
      ]
     },
     "execution_count": 7,
     "metadata": {},
     "output_type": "execute_result"
    }
   ],
   "source": [
    "class NestMLP(nn.Module):\n",
    "    def __init__(self) -> None:\n",
    "        super().__init__()\n",
    "        self.net = nn.Sequential(nn.Linear(20, 64), nn.ReLU(),\n",
    "                                 nn.Linear(64, 32), nn.ReLU())\n",
    "        self.linear = nn.Linear(32, 16)\n",
    "    \n",
    "    def forward(self, X):\n",
    "        return self.linear(self.net(X))\n",
    "\n",
    "chimera = nn.Sequential(NestMLP(), nn.Linear(16, 20), FixedHiddenMLP())\n",
    "chimera(X)"
   ]
  },
  {
   "cell_type": "code",
   "execution_count": null,
   "metadata": {},
   "outputs": [],
   "source": []
  }
 ],
 "metadata": {
  "kernelspec": {
   "display_name": "pytorch-1.12.1",
   "language": "python",
   "name": "python3"
  },
  "language_info": {
   "codemirror_mode": {
    "name": "ipython",
    "version": 3
   },
   "file_extension": ".py",
   "mimetype": "text/x-python",
   "name": "python",
   "nbconvert_exporter": "python",
   "pygments_lexer": "ipython3",
   "version": "3.9.13"
  },
  "orig_nbformat": 4,
  "vscode": {
   "interpreter": {
    "hash": "62cd930f75682ff725daa0e7cec4487070f7c1e00e86dc8defdbc3bc1b0116a6"
   }
  }
 },
 "nbformat": 4,
 "nbformat_minor": 2
}
